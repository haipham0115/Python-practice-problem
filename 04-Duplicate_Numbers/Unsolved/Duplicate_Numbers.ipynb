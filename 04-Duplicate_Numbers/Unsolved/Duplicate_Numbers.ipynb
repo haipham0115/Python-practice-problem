{
 "cells": [
  {
   "cell_type": "markdown",
   "metadata": {},
   "source": [
    "# Duplicate Numbers\n",
    "\n",
    "#### Challenge 1: Print all numbers with duplicates\n",
    "#### Challenge 2: Print only the numbers that were seen once\n",
    "#### Challenge 3: Count the number of duplicates"
   ]
  },
  {
   "cell_type": "code",
   "execution_count": 22,
   "metadata": {},
   "outputs": [],
   "source": [
    "numbers = [1, 6, 6, 3, 3, 3, 4]\n",
    "numbers_2 = [2,2,2,3,4,5,8,12,45,0,1,4,4,67,56,2,0,56,0]"
   ]
  },
  {
   "cell_type": "markdown",
   "metadata": {},
   "source": [
    "### YOUR CODE HERE"
   ]
  },
  {
   "cell_type": "markdown",
   "metadata": {},
   "source": [
    "### Initial thinking\n",
    "* use for loop.\n",
    "* grab and store the element into a var, compare that with the previous item\n",
    "* store the item with duplicate result into a seperate list\n",
    "* use len() to check how many numbers were duplicated\n",
    "* FLAW, WON'T WORK"
   ]
  },
  {
   "cell_type": "markdown",
   "metadata": {},
   "source": [
    "### use set\n"
   ]
  },
  {
   "cell_type": "code",
   "execution_count": 11,
   "metadata": {},
   "outputs": [
    {
     "data": {
      "text/plain": [
       "1"
      ]
     },
     "execution_count": 11,
     "metadata": {},
     "output_type": "execute_result"
    }
   ],
   "source": [
    "numbers.count(4)"
   ]
  },
  {
   "cell_type": "code",
   "execution_count": 25,
   "metadata": {},
   "outputs": [],
   "source": [
    "def duplicate_number(list_num):\n",
    "    dup_list = []\n",
    "    single_list = []\n",
    "    for item in list_num:\n",
    "        if list_num.count(item) > 1:\n",
    "            dup_list.append(item)\n",
    "        else: \n",
    "            single_list.append(item)\n",
    "    print(dup_list, set(dup_list))\n",
    "    print(single_list)\n",
    "    print(f\"there are {len(set(dup_list))} duplicated number(s) in the list\")\n",
    "            \n",
    "        "
   ]
  },
  {
   "cell_type": "code",
   "execution_count": 26,
   "metadata": {},
   "outputs": [
    {
     "name": "stdout",
     "output_type": "stream",
     "text": [
      "[6, 6, 3, 3, 3] {3, 6}\n",
      "[1, 4]\n",
      "there are 2 duplicated number(s) in the list\n"
     ]
    }
   ],
   "source": [
    "duplicate_number(numbers)"
   ]
  },
  {
   "cell_type": "code",
   "execution_count": null,
   "metadata": {},
   "outputs": [],
   "source": []
  }
 ],
 "metadata": {
  "kernelspec": {
   "display_name": "Python 3",
   "language": "python",
   "name": "python3"
  },
  "language_info": {
   "codemirror_mode": {
    "name": "ipython",
    "version": 3
   },
   "file_extension": ".py",
   "mimetype": "text/x-python",
   "name": "python",
   "nbconvert_exporter": "python",
   "pygments_lexer": "ipython3",
   "version": "3.8.8"
  },
  "varInspector": {
   "cols": {
    "lenName": 16,
    "lenType": 16,
    "lenVar": 40
   },
   "kernels_config": {
    "python": {
     "delete_cmd_postfix": "",
     "delete_cmd_prefix": "del ",
     "library": "var_list.py",
     "varRefreshCmd": "print(var_dic_list())"
    },
    "r": {
     "delete_cmd_postfix": ") ",
     "delete_cmd_prefix": "rm(",
     "library": "var_list.r",
     "varRefreshCmd": "cat(var_dic_list()) "
    }
   },
   "types_to_exclude": [
    "module",
    "function",
    "builtin_function_or_method",
    "instance",
    "_Feature"
   ],
   "window_display": false
  }
 },
 "nbformat": 4,
 "nbformat_minor": 2
}
